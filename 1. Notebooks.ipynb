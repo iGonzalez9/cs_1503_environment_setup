{
 "cells": [
  {
   "cell_type": "markdown",
   "id": "5965992d-3a63-4451-b43e-3d5eaf13e153",
   "metadata": {},
   "source": [
    "# Test Header"
   ]
  },
  {
   "cell_type": "markdown",
   "id": "0dd81aa1-d123-4b4d-9ba8-78c9e6fbdbf7",
   "metadata": {},
   "source": [
    "* Name: Isabel Gonzalez\n",
    "* Date: 1/19/2024"
   ]
  },
  {
   "cell_type": "markdown",
   "id": "4e9e5fae-3a9a-4532-b62b-81cbd7691f98",
   "metadata": {},
   "source": [
    "I am interested in **machine learning** because I am in research that heavily involves it! I think it is crucial to understand the math behind it rather than just applications, so I am *very excited* to be in this class!\n",
    "1.   Review the linear algebra behind unsupervised learning methods such as PCA\n",
    "2.   SVMs because I don't know anything about them!\n",
    "3.   Specifics on LSTMs\n",
    "4.   Get into <span style=\"color:red\">reinforcement learning</span>."
   ]
  },
  {
   "cell_type": "markdown",
   "id": "a24fadb4-8e3c-415e-8cba-f684ef778740",
   "metadata": {},
   "source": [
    "![alt text](https://media.giphy.com/media/13ByqbM0hgfN7y/giphy-downsized-large.gif)"
   ]
  },
  {
   "cell_type": "markdown",
   "id": "09926aa3-d0aa-46be-a8e6-161420703767",
   "metadata": {},
   "source": [
    "## Jupyter Notebook Exercises"
   ]
  },
  {
   "cell_type": "code",
   "execution_count": 2,
   "id": "f6e653f6-c67a-4024-bd7f-7c5b0693cd20",
   "metadata": {},
   "outputs": [
    {
     "name": "stdin",
     "output_type": "stream",
     "text": [
      "What is your name?  Isabel\n"
     ]
    },
    {
     "name": "stdout",
     "output_type": "stream",
     "text": [
      "Hello Isabel !\n"
     ]
    }
   ],
   "source": [
    "name = input(prompt=\"What is your name? \")\n",
    "print(\"Hello\", name, \"!\")"
   ]
  },
  {
   "cell_type": "code",
   "execution_count": null,
   "id": "21066296-4305-4e10-b533-90245682bc9d",
   "metadata": {},
   "outputs": [],
   "source": []
  }
 ],
 "metadata": {
  "kernelspec": {
   "display_name": "Python 3 (ipykernel)",
   "language": "python",
   "name": "python3"
  },
  "language_info": {
   "codemirror_mode": {
    "name": "ipython",
    "version": 3
   },
   "file_extension": ".py",
   "mimetype": "text/x-python",
   "name": "python",
   "nbconvert_exporter": "python",
   "pygments_lexer": "ipython3",
   "version": "3.11.7"
  }
 },
 "nbformat": 4,
 "nbformat_minor": 5
}
